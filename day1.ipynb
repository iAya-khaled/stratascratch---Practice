{
 "cells": [
  {
   "cell_type": "markdown",
   "id": "842d5865",
   "metadata": {},
   "source": [
    "## Q1) Most Profitable Companies\n",
    "Find the 3 most profitable companies in the entire world.\n",
    "Output the result along with the corresponding company name.\n",
    "Sort the result based on profits in descending order."
   ]
  },
  {
   "cell_type": "markdown",
   "id": "554413c7",
   "metadata": {},
   "source": [
    "```select  company , profits  as profit\n",
    "from forbes_global_2010_2014\n",
    "ORDER BY forbes_global_2010_2014.profits DESC\n",
    "LIMIT 3;```"
   ]
  },
  {
   "cell_type": "markdown",
   "id": "3a3626b4",
   "metadata": {},
   "source": [
    "## Q2) Workers With The Highest Salaries\n",
    "\n",
    "Find the titles of workers that earn the highest salary. \n",
    "Output the highest-paid title or multiple titles that share the highest salary.\n",
    "\n",
    "\n"
   ]
  },
  {
   "cell_type": "markdown",
   "id": "460d5ab9",
   "metadata": {},
   "source": [
    "```select t.worker_title , w.salary\n",
    "from title as t \n",
    "INNER JOIN worker as w \n",
    "ON t.worker_ref_id = w.worker_id\n",
    "where w.salary = (SELECT MAX(salary) from worker )\n",
    "ORDER BY  w.salary DESC;```"
   ]
  },
  {
   "cell_type": "markdown",
   "id": "e5778fea",
   "metadata": {},
   "source": [
    "## Q3) Activity Rank\n",
    " The table \n",
    "email_logs has the field id as a primary key and includes information about the activity of our email service users."
   ]
  },
  {
   "cell_type": "markdown",
   "id": "bc8a83bc",
   "metadata": {},
   "source": [
    "```select from_user as user_id , count(*) as total_emails , \n",
    "ROW_NUMBER() OVER(ORDER BY count(to_user) DESC) activity_rank\n",
    "from google_gmail_emails\n",
    "group by from_user\n",
    "ORDER BY activity_rank ASC , from_user ASC```"
   ]
  },
  {
   "cell_type": "markdown",
   "id": "5578da95",
   "metadata": {},
   "source": [
    "## Notes \n",
    "- return a unique value (i.e., a unique rank) even if multiple users have the same number of emails. \n",
    "for this part you need to use ( row_number ) to generate a unique rank "
   ]
  },
  {
   "cell_type": "markdown",
   "id": "b5a06811",
   "metadata": {},
   "source": [
    "ref : https://towardsdatascience.com/6-sql-window-functions-coding-problems-on-ranking-interview-countdown-p1-9be0ccf66453"
   ]
  },
  {
   "cell_type": "markdown",
   "id": "41549eaf",
   "metadata": {},
   "source": [
    "## Q4) Finding User Purchases\n",
    "\n",
    "Write a query that'll identify returning active users. A returning active user is a user that has made a second purchase within 7 days of any other of their purchases. \n",
    "Output a list of user_ids of these returning active users."
   ]
  },
  {
   "cell_type": "markdown",
   "id": "b76d1c6c",
   "metadata": {},
   "source": [
    "```SELECT distinct user_id \n",
    "     from ( select user_id , \n",
    "    created_at ,\n",
    "    LEAD(created_at) OVER(PARTITION BY user_id ORDER BY created_at ASC ) as lead_dt , \n",
    "    DATEDIFF('day', created_at , \n",
    "    LEAD(created_at) OVER(PARTITION BY user_id ORDER BY created_at ASC )) as date_diff , \n",
    "    CASE WHEN \n",
    "    DATEDIFF('day', created_at , \n",
    "    LEAD(created_at) OVER(PARTITION BY user_id ORDER BY created_at ASC )) <= 7 then 1 else 0 end as return_flag\n",
    "    from amazon_transactions) tb \n",
    "WHERE return_flag = 1```"
   ]
  },
  {
   "cell_type": "markdown",
   "id": "c2a37b27",
   "metadata": {},
   "source": [
    "# optimized Answers \n",
    "```SELECT \n",
    "    DISTINCT(a.user_id) \n",
    "FROM amazon_transactions a\n",
    "JOIN amazon_transactions b\n",
    "    ON a.user_id = b.user_id\n",
    "WHERE a.created_at - b.created_at BETWEEN 0 AND 7\n",
    "    AND a.id != b.id```"
   ]
  }
 ],
 "metadata": {
  "kernelspec": {
   "display_name": "Python 3 (ipykernel)",
   "language": "python",
   "name": "python3"
  },
  "language_info": {
   "codemirror_mode": {
    "name": "ipython",
    "version": 3
   },
   "file_extension": ".py",
   "mimetype": "text/x-python",
   "name": "python",
   "nbconvert_exporter": "python",
   "pygments_lexer": "ipython3",
   "version": "3.9.12"
  }
 },
 "nbformat": 4,
 "nbformat_minor": 5
}
